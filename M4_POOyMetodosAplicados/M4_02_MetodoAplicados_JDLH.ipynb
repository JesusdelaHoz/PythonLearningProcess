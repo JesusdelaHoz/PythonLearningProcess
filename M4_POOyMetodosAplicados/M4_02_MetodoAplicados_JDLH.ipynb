{
 "cells": [
  {
   "cell_type": "markdown",
   "metadata": {},
   "source": [
    "# Ejercicios Modulo 2. Unidad 2. Métodos aplicados (Soluciones)\n",
    "\n",
    "Consideraciones a tener en cuenta: \n",
    "\n",
    "* Guardar este documento con el siguiente formato para su entrega: __M4_02_nombre_apellido1_apellido2__\n",
    "* Realizar los ejercicios con las herramientas vistas en las sesiones. \n",
    "* Comentar el código\n",
    "* Utilizar nombres de variables apropiados, si vais a guardar una nota, llamar a esa variable nota, no n o x"
   ]
  },
  {
   "cell_type": "markdown",
   "metadata": {},
   "source": [
    "**1) Solicita por teclado un texto al usuario y decir si:**\n",
    "* El texto es una cadena de texto\n",
    "* El texto es una cadena de dígitos\n",
    "* El texto incluye caracteres y números"
   ]
  },
  {
   "cell_type": "code",
   "execution_count": 5,
   "metadata": {},
   "outputs": [
    {
     "name": "stdout",
     "output_type": "stream",
     "text": [
      "Escriba un fragmento de texto:lolita tiene 8 cabras\n",
      "El texto incluye caracteres y números\n"
     ]
    }
   ],
   "source": [
    "cadena = input(\"Escriba un fragmento de texto:\")\n",
    "\n",
    "if cadena.isdigit() == True:\n",
    "    print(\"El texto es una cadena de dígitos\")\n",
    "elif cadena.isalpha() == True:\n",
    "    print(\"El texto es una cadena de texto\")\n",
    "else:\n",
    "    print(\"El texto incluye caracteres y números\")"
   ]
  },
  {
   "cell_type": "markdown",
   "metadata": {},
   "source": [
    "**2) Solicita al usuario un texto y una palabra a buscar dentro del texto. Si la localiza, extraer desde esa posición hasta el final de la frase y almacenarlo en otra variable.** \n",
    "* Ejemplo de texto: Hola mundo que tal \n",
    "* Buscamos: mundo \n",
    "* Resultado: mundo que tal"
   ]
  },
  {
   "cell_type": "code",
   "execution_count": 9,
   "metadata": {},
   "outputs": [
    {
     "name": "stdout",
     "output_type": "stream",
     "text": [
      "Escriba un fragmento de texto: Los tomates se los comen las cabras con hambre\n",
      "Escriba la palabra que quiere buscar en el texto: los\n",
      "los comen las cabras con hambre\n"
     ]
    }
   ],
   "source": [
    "txt = input(\"Escriba un fragmento de texto: \")\n",
    "palabraBusqueda = input(\"Escriba la palabra que quiere buscar en el texto: \")\n",
    "busqueda = txt.find(palabraBusqueda)\n",
    "if busqueda == -1:\n",
    "    print(\"Palabra NO encontrada en texto introducido\")\n",
    "else:\n",
    "    indice = txt.rfind(palabraBusqueda)\n",
    "    cadenaExtraida = txt[indice:]\n",
    "    print(cadenaExtraida)"
   ]
  },
  {
   "cell_type": "markdown",
   "metadata": {},
   "source": [
    "**3) Partiendo de una frase con diferentes palabras separadas por espacios, crear una lista donde cada elemento sea cada palabra del texto. Mostrar dicha lista y mostrar el número de veces que se encuentra la palabra mundo en esa lista**"
   ]
  },
  {
   "cell_type": "code",
   "execution_count": 10,
   "metadata": {},
   "outputs": [
    {
     "name": "stdout",
     "output_type": "stream",
     "text": [
      "Escriba una frase con la palabra 'mundo': el mundo esta lleno de mundos y mundo y mundo\n",
      "La palabra mundo se ha encontrado en la lista 3 veces\n"
     ]
    }
   ],
   "source": [
    "frase = input(\"Escriba una frase con la palabra 'mundo': \")\n",
    "listaFrase = frase.split(' ')\n",
    "contador = 0\n",
    "for w in listaFrase:\n",
    "    if w == \"mundo\" or w == \"Mundo\" or w == \"MUNDO\":\n",
    "        contador += 1\n",
    "print(\"La palabra mundo se ha encontrado en la lista {} veces\".format(contador))"
   ]
  }
 ],
 "metadata": {
  "anaconda-cloud": {},
  "kernelspec": {
   "display_name": "Python 3 (ipykernel)",
   "language": "python",
   "name": "python3"
  },
  "language_info": {
   "codemirror_mode": {
    "name": "ipython",
    "version": 3
   },
   "file_extension": ".py",
   "mimetype": "text/x-python",
   "name": "python",
   "nbconvert_exporter": "python",
   "pygments_lexer": "ipython3",
   "version": "3.9.7"
  }
 },
 "nbformat": 4,
 "nbformat_minor": 1
}
