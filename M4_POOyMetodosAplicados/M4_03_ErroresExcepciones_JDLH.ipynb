{
 "cells": [
  {
   "cell_type": "markdown",
   "metadata": {},
   "source": [
    "# Ejercicios Modulo 4. Unidad 3. Errores y Excepciones\n",
    "\n",
    "Consideraciones a tener en cuenta: \n",
    "\n",
    "* Guardar este documento con el siguiente formato para su entrega: __M4_03_nombre_apellido1_apellido2__\n",
    "* Realizar los ejercicios con las herramientas vistas en las sesiones. \n",
    "* Comentar el código\n",
    "* Utilizar nombres de variables apropiados, si vais a guardar una nota, llamar a esa variable nota, no n o x"
   ]
  },
  {
   "cell_type": "markdown",
   "metadata": {},
   "source": [
    "**Identificar los errores en los siguiente bloques de código y evaluarlos con excepciones especificas para evitar errores no controlados en nuestros programas. Añade mensajes explicativos para el usuario.**\n",
    "<br>_Nota: Se tienen que evaluar excepciones concretas, no hacer referencia a Exception sin más._"
   ]
  },
  {
   "cell_type": "markdown",
   "metadata": {},
   "source": [
    "**1) Código a evaluar:**"
   ]
  },
  {
   "cell_type": "code",
   "execution_count": 2,
   "metadata": {},
   "outputs": [
    {
     "name": "stdout",
     "output_type": "stream",
     "text": [
      "No se permite la division entre 0, indeterminacion matematica\n"
     ]
    }
   ],
   "source": [
    "try:\n",
    "    numero = 7/0\n",
    "except ZeroDivisionError:\n",
    "    print(\"No se permite la division entre 0, indeterminacion matematica\")"
   ]
  },
  {
   "cell_type": "markdown",
   "metadata": {},
   "source": [
    "**2) Código a evaluar:**"
   ]
  },
  {
   "cell_type": "code",
   "execution_count": 7,
   "metadata": {},
   "outputs": [
    {
     "name": "stdout",
     "output_type": "stream",
     "text": [
      "Debe introducir un valor acorde con el tamaño de la lista\n",
      "La lista tiene un tamaño de: 5 elementos\n"
     ]
    }
   ],
   "source": [
    "try:\n",
    "    lista = [4, 7, 30, 23, 5]\n",
    "    lista[10]\n",
    "except IndexError:\n",
    "    print(\"\"\"Debe introducir un valor acorde con el tamaño de la lista\n",
    "La lista tiene un tamaño de: {} elementos\"\"\".format(len(lista)))"
   ]
  },
  {
   "cell_type": "markdown",
   "metadata": {},
   "source": [
    "**3) Código a evaluar:**"
   ]
  },
  {
   "cell_type": "code",
   "execution_count": 11,
   "metadata": {},
   "outputs": [
    {
     "name": "stdout",
     "output_type": "stream",
     "text": [
      "Debe acceder al diccionario con una clave que este dentro de ella,\n",
      "Si tiene duda introduzca su clave aqui:55\n",
      "False\n"
     ]
    }
   ],
   "source": [
    "try:\n",
    "    paises = { \"españa\":\"español\", \"eeuu\":\"inglés\", \"italia\":\"italiano\" } \n",
    "    paises[\"alemania\"]\n",
    "except KeyError:\n",
    "    print(\"Debe acceder al diccionario con una clave que este dentro de ella\")\n",
    "    print(str(input(\"Si tiene duda introduzca su clave aqui:\")) in paises)"
   ]
  },
  {
   "cell_type": "markdown",
   "metadata": {},
   "source": [
    "**4) Localiza el error en el siguiente bloque de código.  Crea una excepción para evitar que el programa se bloquee y además explica en un mensaje al usuario la causa y/o solución:**"
   ]
  },
  {
   "cell_type": "code",
   "execution_count": 13,
   "metadata": {},
   "outputs": [
    {
     "name": "stdout",
     "output_type": "stream",
     "text": [
      "Error de tipo de dato, una de las variables introducidas es un string, debe trnasformarlo a un tipo de dato numerico\n"
     ]
    }
   ],
   "source": [
    "try:\n",
    "    resultado = \"2\" + 10\n",
    "except TypeError:\n",
    "    print(\"Error de tipo de dato, una de las variables introducidas es un string, debe transformarlo a un tipo de dato numerico\")"
   ]
  },
  {
   "cell_type": "markdown",
   "metadata": {},
   "source": [
    "**5) Realiza una función llamada agregar_sin_repetidos() que reciba una lista y un elemento. La función debe añadir el elemento al final de la lista con la condición de no repetir ningún elemento. Además si este elemento ya se encuentra en la lista se debe invocar un error de tipo ValueError que debes capturar y mostrar este mensaje en su lugar:**\n",
    "\n",
    "```\n",
    "  Error: Imposible añadir elementos duplicados => [elemento].\n",
    "```\n",
    "**Prueba a agregar los elementos 7, \"Python\" y 5 a través de la función agregar_sin_repetidos() e imprime la lista completa al finalizar.**\n",
    "\n",
    "*Pista: Puedes utilizar la sintaxis: elemento in lista*"
   ]
  },
  {
   "cell_type": "code",
   "execution_count": 27,
   "metadata": {},
   "outputs": [
    {
     "name": "stdout",
     "output_type": "stream",
     "text": [
      "Error: Imposible añadir elementos duplicados => [5]\n",
      "[3, 5, 10, 7, 'Python']\n"
     ]
    }
   ],
   "source": [
    "def agregar_sin_repetido(a = list(), elemento = None):\n",
    "    prueba = elemento in a\n",
    "    try:\n",
    "        if prueba == True:\n",
    "            raise ValueError()\n",
    "        else:\n",
    "            a.append(elemento)\n",
    "    except ValueError:\n",
    "        print(\"Error: Imposible añadir elementos duplicados => [{}]\".format(elemento))\n",
    "\n",
    "if __name__ == \"__main__\":\n",
    "    \n",
    "    elementos = [3, 5, 10]\n",
    "    agregar_sin_repetido(elementos, 7)\n",
    "    agregar_sin_repetido(elementos, \"Python\")\n",
    "    agregar_sin_repetido(elementos, 5)\n",
    "    print(elementos)"
   ]
  },
  {
   "cell_type": "markdown",
   "metadata": {},
   "source": [
    "**6) Busca en la documentación otra excepción que no se haya utilizado hasta ahora y realiza los siguientes pasos:**\n",
    "* Provoca el error en un código de ejemplo. \n",
    "* Una vez que las hayas provocado, contrólalas con try-except\n",
    "* Muestra al usuario la información por defecto que proporcione la excepción. Pista: as\n",
    "* Personaliza el mensaje que se le proporciona al usuario utilizando todo lo anterior"
   ]
  },
  {
   "cell_type": "code",
   "execution_count": 38,
   "metadata": {},
   "outputs": [
    {
     "name": "stdout",
     "output_type": "stream",
     "text": [
      "Error de nombre, alguna parte del codigo esta referenciada con un nombre que NO EXISTE, reviselo\n",
      "El error que se muestra por defecto es el siguiente: >>>>> name 'agregar_repetido' is not defined\n"
     ]
    }
   ],
   "source": [
    "if __name__ == \"__main__\":\n",
    "    \n",
    "    elementos = [3, 5, 10]\n",
    "    try:\n",
    "        agregar_repetido(elementos, 7)\n",
    "    except NameError and Exception as e: # La condicion siempre se va a cumplir cuando haya un error\n",
    "        print(\"Error de nombre, alguna parte del codigo esta referenciada con un nombre que NO EXISTE, reviselo\")\n",
    "        print(\"El error que se muestra por defecto es el siguiente: >>>>>\", e)\n",
    "    \n",
    "        "
   ]
  }
 ],
 "metadata": {
  "anaconda-cloud": {},
  "kernelspec": {
   "display_name": "Python 3 (ipykernel)",
   "language": "python",
   "name": "python3"
  },
  "language_info": {
   "codemirror_mode": {
    "name": "ipython",
    "version": 3
   },
   "file_extension": ".py",
   "mimetype": "text/x-python",
   "name": "python",
   "nbconvert_exporter": "python",
   "pygments_lexer": "ipython3",
   "version": "3.9.7"
  }
 },
 "nbformat": 4,
 "nbformat_minor": 1
}
