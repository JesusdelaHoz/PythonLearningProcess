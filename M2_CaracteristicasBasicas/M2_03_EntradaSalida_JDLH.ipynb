{
 "cells": [
  {
   "cell_type": "markdown",
   "metadata": {},
   "source": [
    "# Ejercicios Modulo 2. Entrada y salida de datos\n",
    "\n",
    "Consideraciones a tener en cuenta: \n",
    "\n",
    "* Guardar este documento con el siguiente formato para su entrega: __M2_03_nombre_apellido1_apellido2__\n",
    "* Realizar los ejercicios con las herramientas vistas en las sesiones. Aún no hemos llegado a condicionales ni bucles\n",
    "* Comentar el código\n",
    "* Utilizar nombres de variables apropiados, si vais a guardar una nota, llamar a esa variable nota, no n o x"
   ]
  },
  {
   "cell_type": "markdown",
   "metadata": {},
   "source": [
    "## Ejercicios de entrada y salida"
   ]
  },
  {
   "cell_type": "markdown",
   "metadata": {},
   "source": [
    "**1) Utiliza el método input() para realizar las siguientes tareas:**\n",
    "\n",
    "* Pide un número por teclado, muestra el resultado y su tipo (para conocer en que tipo de dato captura la información input())\n",
    "* Pide un número por teclado y asegurate de que capturemos la información en formato int\n",
    "* Pide un número por teclado y asegurate de que capturemos la información en formato float\n",
    "\n",
    "__Comprobar con type que los datos son del tipo correcto__"
   ]
  },
  {
   "cell_type": "code",
   "execution_count": 1,
   "metadata": {},
   "outputs": [
    {
     "name": "stdout",
     "output_type": "stream",
     "text": [
      "55\n",
      "<class 'str'>\n"
     ]
    }
   ],
   "source": [
    "numero = input()\n",
    "print(type(numero))"
   ]
  },
  {
   "cell_type": "code",
   "execution_count": 3,
   "metadata": {},
   "outputs": [
    {
     "name": "stdout",
     "output_type": "stream",
     "text": [
      "55\n",
      "<class 'int'>\n"
     ]
    }
   ],
   "source": [
    "numeroint = int(input())\n",
    "print(type(numeroint))"
   ]
  },
  {
   "cell_type": "code",
   "execution_count": 5,
   "metadata": {},
   "outputs": [
    {
     "name": "stdout",
     "output_type": "stream",
     "text": [
      "55\n",
      "<class 'float'>\n",
      "55.0\n"
     ]
    }
   ],
   "source": [
    "numerofloat = float(input())\n",
    "print(type(numerofloat))\n",
    "# Compruebo si verdaderamente es un float\n",
    "print(numerofloat)"
   ]
  },
  {
   "cell_type": "markdown",
   "metadata": {},
   "source": [
    "**2) Vamos a formatear números:**\n",
    "\n",
    "* Pide un numero entero por teclado\n",
    "* Muéstralo con el formato de 5 dígitos rellenos con 0s por delante\n",
    "* Pide un número flotante por teclado\n",
    "* Muéstralo con 5 dígitos para la parte entera y 3 dígitos para la parte decimal"
   ]
  },
  {
   "cell_type": "code",
   "execution_count": 16,
   "metadata": {},
   "outputs": [
    {
     "name": "stdout",
     "output_type": "stream",
     "text": [
      "Escriba un numero entero:55\n",
      "Tu numero formateado es: 00055\n"
     ]
    }
   ],
   "source": [
    "# Hacemos casting direcatmente para pedir un numero entero\n",
    "numFormd = int(input(\"Escriba un numero entero:\"))\n",
    "# Rellenamos con format con 0 delante para darle esa visualización\n",
    "numFormd = \"{:05d}\".format(numFormd)\n",
    "print(\"Tu numero entero formateado es:\", numFormd) # Le damos una visualizacion mas \"arreglada\""
   ]
  },
  {
   "cell_type": "code",
   "execution_count": 17,
   "metadata": {},
   "outputs": [
    {
     "name": "stdout",
     "output_type": "stream",
     "text": [
      "Escriba un numero decimal:825.32698\n",
      "Tu numero formateado es: 00825.327\n"
     ]
    }
   ],
   "source": [
    "# Vamos a realizar lo mismo pero con un float\n",
    "numFormf = float(input(\"Escriba un numero decimal:\"))\n",
    "# Rellenamos con format con 0 delante, 9 digitos, los puntos cuentan\n",
    "numFormf = \"{:09.3f}\".format(numFormf)\n",
    "print(\"Tu numero decimal formateado es:\", numFormf) # Le damos una visualizacion mas \"arreglada\""
   ]
  },
  {
   "cell_type": "markdown",
   "metadata": {},
   "source": [
    "**3) Vamos a ponernos creativos. ¿Cuántas formas tienes de mostrar esta información?**<bR>\n",
    "<code>La altura es de 1,80 metros y el peso es de 80,135 KG</code>\n",
    "    \n",
    "Siendo la altura y el peso dos variables que se recojan con 2 inputs\n",
    "    \n",
    "__Pista: format() se puede usar de varias formas__"
   ]
  },
  {
   "cell_type": "code",
   "execution_count": 22,
   "metadata": {},
   "outputs": [
    {
     "name": "stdout",
     "output_type": "stream",
     "text": [
      "Escriba su altura en metros:1.80\n",
      "Escriba su peso en Kilogramos:80.135\n",
      "La altura es de 1.80 metros y el peso es de 80.135 Kg\n"
     ]
    }
   ],
   "source": [
    "# Forma 1\n",
    "hInput = float(input(\"Escriba su altura en metros:\"))\n",
    "hInput = \"{:04.2f}\".format(hInput)\n",
    "pInput = float(input(\"Escriba su peso en Kilogramos:\"))\n",
    "pInput = \"{:06.3f}\".format(pInput)\n",
    "print(\"La altura es de {} metros y el peso es de {} Kg\".format(hInput, pInput))"
   ]
  },
  {
   "cell_type": "code",
   "execution_count": 20,
   "metadata": {},
   "outputs": [
    {
     "name": "stdout",
     "output_type": "stream",
     "text": [
      "La altura es de 1.8 metros y el peso es de 80.135 Kg\n"
     ]
    }
   ],
   "source": [
    "# Las variables las defino a partir de aqui, para evitar tener que meterlas en todos los caso que haga\n",
    "# Forma 2: Escribiento directamente los datos\n",
    "print(\"La altura es de {} metros y el peso es de {} Kg\".format(1.80, 80.135))"
   ]
  },
  {
   "cell_type": "code",
   "execution_count": 21,
   "metadata": {},
   "outputs": [
    {
     "name": "stdout",
     "output_type": "stream",
     "text": [
      "La altura es de 1.8 metros y el peso es de 80.135 Kg\n"
     ]
    }
   ],
   "source": [
    "# Forma 3: Con seleccion directa de las variables\n",
    "h = 1.80\n",
    "p = 80.135\n",
    "print(\"La altura es de {} metros y el peso es de {} Kg\".format(h, p))"
   ]
  },
  {
   "cell_type": "code",
   "execution_count": 23,
   "metadata": {},
   "outputs": [
    {
     "name": "stdout",
     "output_type": "stream",
     "text": [
      "La altura es de 1.8 metros y el peso es de 80.135 Kg\n"
     ]
    }
   ],
   "source": [
    "# Forma 4: Con utilización de diminutivos\n",
    "altura = 1.80\n",
    "peso = 80.135\n",
    "frase = \"La altura es de {h} metros y el peso es de {p} Kg\".format(h = altura, p = peso)\n",
    "print(frase)"
   ]
  },
  {
   "cell_type": "code",
   "execution_count": 24,
   "metadata": {},
   "outputs": [
    {
     "name": "stdout",
     "output_type": "stream",
     "text": [
      "La altura es de 1.8 metros y el peso es de 80.135 Kg\n"
     ]
    }
   ],
   "source": [
    "# Forma 5: Con selección mediante posiciones\n",
    "h = 1.80\n",
    "p = 80.135\n",
    "print(\"La altura es de {1} metros y el peso es de {0} Kg\".format(p, h))"
   ]
  }
 ],
 "metadata": {
  "anaconda-cloud": {},
  "kernelspec": {
   "display_name": "Python 3 (ipykernel)",
   "language": "python",
   "name": "python3"
  },
  "language_info": {
   "codemirror_mode": {
    "name": "ipython",
    "version": 3
   },
   "file_extension": ".py",
   "mimetype": "text/x-python",
   "name": "python",
   "nbconvert_exporter": "python",
   "pygments_lexer": "ipython3",
   "version": "3.9.7"
  }
 },
 "nbformat": 4,
 "nbformat_minor": 1
}
