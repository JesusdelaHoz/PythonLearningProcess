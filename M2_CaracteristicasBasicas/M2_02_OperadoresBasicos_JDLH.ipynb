{
 "cells": [
  {
   "cell_type": "markdown",
   "metadata": {},
   "source": [
    "# Ejercicios Modulo 2. Operadores\n",
    "\n",
    "Consideraciones a tener en cuenta: \n",
    "\n",
    "* Guardar este documento con el siguiente formato para su entrega: __M2_02_nombre_apellido1_apellido2__\n",
    "* Realizar los ejercicios con las herramientas vistas en las sesiones. Aún no hemos llegado a condicionales ni bucles\n",
    "* Comentar el código\n",
    "* Utilizar nombres de variables apropiados, si vais a guardar una nota, llamar a esa variable nota, no n o x"
   ]
  },
  {
   "cell_type": "markdown",
   "metadata": {},
   "source": [
    "## Ejercicios de operadores y expresiones"
   ]
  },
  {
   "cell_type": "markdown",
   "metadata": {},
   "source": [
    "**1) Crear 5 variables con 5 notas numéricas y realizar la media aritmética. Mostrar el resultado final con un mensaje como este: \"La nota media es 6.0\"**"
   ]
  },
  {
   "cell_type": "code",
   "execution_count": 1,
   "metadata": {},
   "outputs": [
    {
     "name": "stdout",
     "output_type": "stream",
     "text": [
      "25.75\n"
     ]
    }
   ],
   "source": [
    "#Creamos nuestras 5 notas y variables que simplifiquen la operacion posteriror\n",
    "nota1 = 5.00\n",
    "nota2 = 3.25\n",
    "nota3 = 8.25\n",
    "nota4 = 2.00\n",
    "nota5 = 7.25\n",
    "sumNotas = nota1 + nota2 + nota3 + nota4 + nota5\n",
    "cantNotas = 5 #La cantidad de notas que tenemos\n",
    "print(sumNotas)"
   ]
  },
  {
   "cell_type": "code",
   "execution_count": 2,
   "metadata": {},
   "outputs": [
    {
     "name": "stdout",
     "output_type": "stream",
     "text": [
      "5.15\n"
     ]
    }
   ],
   "source": [
    "#Creamos una variable que sea nuestra media aritmetica\n",
    "mediaAritmetica = sumNotas/cantNotas\n",
    "print(mediaAritmetica)"
   ]
  },
  {
   "cell_type": "code",
   "execution_count": 8,
   "metadata": {},
   "outputs": [
    {
     "name": "stdout",
     "output_type": "stream",
     "text": [
      "La nota media es 5.15\n"
     ]
    }
   ],
   "source": [
    "#Damos el resultado por pantalla\n",
    "frasePantalla = \"La nota media es\"  #He intentado hacer una concatenacion pero daba error por ser un float y un string\n",
    "print(frasePantalla, mediaAritmetica) "
   ]
  },
  {
   "cell_type": "markdown",
   "metadata": {},
   "source": [
    "**2) Busca en la documentación la forma correcta de redondear el siguiente resultado a tan solo 2 decimales: operacion = (365 / 12) * 14.7**"
   ]
  },
  {
   "cell_type": "code",
   "execution_count": 13,
   "metadata": {},
   "outputs": [
    {
     "name": "stdout",
     "output_type": "stream",
     "text": [
      "447.125\n"
     ]
    }
   ],
   "source": [
    "operacion = (365.00/12.00)*14.7\n",
    "print(operacion)"
   ]
  },
  {
   "cell_type": "code",
   "execution_count": 17,
   "metadata": {},
   "outputs": [
    {
     "name": "stdout",
     "output_type": "stream",
     "text": [
      "447.12\n"
     ]
    }
   ],
   "source": [
    "#He comprobado que redondea el 5 a la baja.\n",
    "redondeo = round(operacion, 2)\n",
    "print(redondeo)"
   ]
  },
  {
   "cell_type": "markdown",
   "metadata": {},
   "source": [
    "**3) Crea dos variables que almacenen 2 strings (username y password). Realizar las siguientes comprobaciones utilizando operadores lógicos:**\n",
    "* Que la longitud de username sea mayor o igual que tres y menor que diez\n",
    "* Que la password sea igual a \"Tokio\" o que sea igual a \"Python\".\n",
    "<br>La salida por pantalla tiene que ser:\n",
    "    * **Username: True o False** (según se haya evaluado)\n",
    "    * **Password: True o False** (según se haya evaluado)"
   ]
  },
  {
   "cell_type": "code",
   "execution_count": 3,
   "metadata": {},
   "outputs": [],
   "source": [
    "#creamos las variables con mi nombre y la contraseña Tokio\n",
    "username = \"JesusdelaHoz\"\n",
    "password = \"Tokio\"\n",
    "#Creamos unas variables str para hacer la logica, ya que los int no pueden tener lenght\n",
    "len3 = \"123\"\n",
    "len10 = \"0123456789\""
   ]
  },
  {
   "cell_type": "code",
   "execution_count": 16,
   "metadata": {},
   "outputs": [
    {
     "name": "stdout",
     "output_type": "stream",
     "text": [
      "El usuario según sus características puede ser válido 'TRUE' o inválido 'FALSE'.\n",
      "Validez de usuario = False\n"
     ]
    }
   ],
   "source": [
    "#Primero comprobamos la longitud del \"username\" mediante las variable de longitud creadas anteriormente\n",
    "condicionesUsuario = username >= len3 and username < len10\n",
    "#Sacamos por pantalla los resultados de las condiciones impuestas mediante una frase explicativa y su resultado\n",
    "print(\"El usuario según sus características puede ser válido 'TRUE' o inválido 'FALSE'.\")\n",
    "print(\"Validez de usuario =\", condicionesUsuario)"
   ]
  },
  {
   "cell_type": "code",
   "execution_count": 17,
   "metadata": {},
   "outputs": [
    {
     "name": "stdout",
     "output_type": "stream",
     "text": [
      "La contraseña según sus características puede ser válida 'TRUE' o inválida 'FALSE'.\n",
      "Validez de la contraseña = True\n"
     ]
    }
   ],
   "source": [
    "#Comprobamos las condiciones de la contraseña\n",
    "condicionesContraseña = password == \"Tokio\" or password == \"Python\"\n",
    "#Sacamos por pantalla los resultados de las condiciones impuestas mediante una frase explicativa y su resultado\n",
    "print(\"La contraseña según sus características puede ser válida 'TRUE' o inválida 'FALSE'.\")\n",
    "print(\"Validez de la contraseña =\", condicionesContraseña)"
   ]
  },
  {
   "cell_type": "markdown",
   "metadata": {},
   "source": [
    "**4) Practiquemos con los operadores de asignación (=, +=, *=, etc.):**\n",
    "* Crea dos variables y asignales los números que quieras\n",
    "* Incrementale a num1 su valor en 1\n",
    "* Decrementale a num2 su valor en 2\n",
    "* Multiplica num1 por 3 y actualiza su valor\n",
    "* Dividide num2 por 2 y actualiza su valor\n",
    "* Muestra los resultados"
   ]
  },
  {
   "cell_type": "code",
   "execution_count": 27,
   "metadata": {},
   "outputs": [
    {
     "name": "stdout",
     "output_type": "stream",
     "text": [
      "51\n",
      "13\n",
      "153\n",
      "6.5\n"
     ]
    }
   ],
   "source": [
    "num1 = 50\n",
    "num2 = 15\n",
    "#Incrementamos en 1 el valor de num1\n",
    "num1 += 1\n",
    "print(num1)\n",
    "#Decremento en 2 el valor de num2\n",
    "num2 -= 2\n",
    "print(num2)\n",
    "#Multiplico num1 por 3\n",
    "num1 *=3\n",
    "print(num1)\n",
    "#Divido num2 entre 2\n",
    "num2 /= 2\n",
    "print(num2)\n"
   ]
  }
 ],
 "metadata": {
  "anaconda-cloud": {},
  "kernelspec": {
   "display_name": "Python 3 (ipykernel)",
   "language": "python",
   "name": "python3"
  },
  "language_info": {
   "codemirror_mode": {
    "name": "ipython",
    "version": 3
   },
   "file_extension": ".py",
   "mimetype": "text/x-python",
   "name": "python",
   "nbconvert_exporter": "python",
   "pygments_lexer": "ipython3",
   "version": "3.9.7"
  }
 },
 "nbformat": 4,
 "nbformat_minor": 1
}
