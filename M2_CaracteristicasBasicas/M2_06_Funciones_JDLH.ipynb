{
 "cells": [
  {
   "cell_type": "markdown",
   "metadata": {},
   "source": [
    "# Ejercicios Modulo 2. Funciones\n",
    "\n",
    "Consideraciones a tener en cuenta: \n",
    "\n",
    "* Guardar este documento con el siguiente formato para su entrega: __M2_06_nombre_apellido1_apellido2__\n",
    "* Realizar los ejercicios con las herramientas vistas en las sesiones. \n",
    "* Comentar el código\n",
    "* Utilizar nombres de variables apropiados, si vais a guardar una nota, llamar a esa variable nota, no n o x"
   ]
  },
  {
   "cell_type": "markdown",
   "metadata": {},
   "source": [
    "**1) Realiza una función que devuelva el área de un rectángulo a partir de su base y su altura. La función se llamará area_rectangulo(). La base y la altura se pedirán al usuario por teclado.**\n",
    "\n",
    "*Nota: El área de un rectángulo se obtiene al multiplicar la base por la altura.*"
   ]
  },
  {
   "cell_type": "code",
   "execution_count": null,
   "metadata": {},
   "outputs": [],
   "source": [
    "def area_rectangulo():\n",
    "    b = float(input(\"Medida de la base de su triangulo (cm):\"))\n",
    "    a = float(input(\"Medida de la altura de su triangulo (cm):\"))\n",
    "    area = (b * a)\n",
    "    print(area, \"cm^2\")\n",
    "area_rectangulo()"
   ]
  },
  {
   "cell_type": "markdown",
   "metadata": {},
   "source": [
    "**2) Realiza una función que devuelva el área de un círculo a partir de un radio. La función se llamará area_circulo(). El radio se pedirá al usuario por teclado:**\n",
    "\n",
    "Nota: El área de un círculo se obtiene al elevar el radio a dos y multiplicando el resultado por el número pi. Puedes utilizar el valor 3.14159 como pi o importarlo del módulo math:\n",
    "```python\n",
    "import math\n",
    "print(math.pi)\n",
    "> 3.1415...\n",
    "```"
   ]
  },
  {
   "cell_type": "code",
   "execution_count": null,
   "metadata": {},
   "outputs": [],
   "source": [
    "def area_circulo():\n",
    "    r = float(input(\"Radio de tu circulo (cm):\"))\n",
    "    pi = 3.14159\n",
    "    area = ((r**2) * pi)\n",
    "    print(area, \"cm^2\")\n",
    "area_circulo()"
   ]
  },
  {
   "cell_type": "markdown",
   "metadata": {},
   "source": [
    "**3) Realiza una función llamada lee_numero() que solicite y lea por teclado un numero. Utilizar esta función para pedirle al usuario 3 números. Luego pasarle estos 3 números a una función que se llame mayor() que tenga 3 parámetros y que devuelva el número mayor de los 3:**"
   ]
  },
  {
   "cell_type": "code",
   "execution_count": null,
   "metadata": {},
   "outputs": [],
   "source": [
    "def lee_numero():\n",
    "    numero = float(input(\"Escriba un numero:\"))\n",
    "    return numero\n",
    "def mayor(a, b, c):\n",
    "    if a > b and a > c:\n",
    "        print(\"El numero mayor es:\", a)\n",
    "    elif b > a and b > c:\n",
    "        print(\"El numero mayor es:\", b)\n",
    "    else:\n",
    "        print(\"El numero mayor es:\", c)\n",
    "\n",
    "if __name__ == \"__main__\":\n",
    "    num1 = lee_numero()\n",
    "    num2 = lee_numero()\n",
    "    num3 = lee_numero()\n",
    "    mayor(num1, num2,num3)"
   ]
  },
  {
   "cell_type": "markdown",
   "metadata": {},
   "source": [
    "**4) Realizar una función llamada imc(). Esta función nos proporcionará el estado nutricional de una persona. Esto es; la clasificación de su índice de masa corporal (IMC), según la tabla proporcionada. La función recibirá el peso (en kilos) y la talla de una persona (en metros con dos decimales), datos a partir de los cuales se puede calcular el IMC cómo:**\n",
    "\n",
    "IMC = peso / (altura * altura)\n",
    "\n",
    "Clasificación: IMC (Kg/m^2)\n",
    "* Bajo peso:  < 18.50\n",
    "* Normal:      [18.50, 25.00)\n",
    "* Sobrepeso: >= 25.00\n",
    "* Obesidad: >= 30.00"
   ]
  },
  {
   "cell_type": "code",
   "execution_count": null,
   "metadata": {},
   "outputs": [],
   "source": [
    "def imc(peso, altura):\n",
    "    altura = round(altura, 2) # Redondeamos la altura con dos decimales\n",
    "    imc = (peso / (altura * altura))\n",
    "    if imc < 18.50:\n",
    "        print(\"Bajo peso\")\n",
    "    elif imc >= 18.50 or imc < 25.00:\n",
    "        print(\"Normal\")\n",
    "    elif imc >= 25.00 or imc < 30.00:\n",
    "        print(\"Sobrepeso\")\n",
    "    else:\n",
    "        print(\"Obesidad\")\n",
    "imc(74, 1.78)"
   ]
  },
  {
   "cell_type": "markdown",
   "metadata": {},
   "source": [
    "**5) ¿Recuerdas este programa de la unidad de control de flujo?**\n",
    "\n",
    "Realiza un programa que realice las siguientes tareas:\n",
    "\n",
    "* Paso 1) solicite al usuario una contraseña y la guarde en una variable\n",
    "* Paso 2) pida al usuario introducir la contraseña para loguearse\n",
    "    * si la contraseña es correcta mostramos \"Login correcto\"\n",
    "    * si la contraseña no es correcta se le tendrá que mostrar un mensaje de \"Login fallido. Intento 1\", donde 1 será una variable contador que irá incrementandose hasta llegar a 5. En ese punto reiniciamos el programa y volveremos al Paso 1\n",
    "\n",
    "__Reestructura el ejercicio dividiéndolo al máximo en funciones.__"
   ]
  },
  {
   "cell_type": "code",
   "execution_count": null,
   "metadata": {},
   "outputs": [],
   "source": [
    "def crear_password():\n",
    "    password = input(\"Escriba su contraseña:\")\n",
    "    return password\n",
    "\n",
    "def login_correcto ():\n",
    "    print(\"--Login correcto--\")\n",
    "\n",
    "\n",
    "while (True):\n",
    "    contraseña = crear_password()\n",
    "    loginContraseña = input(\"Introduzca su contraseña para registrarse:\")\n",
    "    if loginContraseña == contraseña:\n",
    "        login_correcto()\n",
    "    else:\n",
    "        contador = 1\n",
    "        while loginContraseña != contraseña:\n",
    "            print(\"Login fallido. Intento\", contador)\n",
    "            loginContraseña = input(\"Intentelo de nuevo:\")\n",
    "            if loginContraseña == contraseña:\n",
    "                login_correcto()\n",
    "            elif contador == 5:\n",
    "                loginContraseña = contraseña\n",
    "                print(\"Intentos permitidos excedidos\")\n",
    "            else:\n",
    "                contador += 1"
   ]
  }
 ],
 "metadata": {
  "anaconda-cloud": {},
  "kernelspec": {
   "display_name": "Python 3 (ipykernel)",
   "language": "python",
   "name": "python3"
  },
  "language_info": {
   "codemirror_mode": {
    "name": "ipython",
    "version": 3
   },
   "file_extension": ".py",
   "mimetype": "text/x-python",
   "name": "python",
   "nbconvert_exporter": "python",
   "pygments_lexer": "ipython3",
   "version": "3.9.7"
  }
 },
 "nbformat": 4,
 "nbformat_minor": 1
}
