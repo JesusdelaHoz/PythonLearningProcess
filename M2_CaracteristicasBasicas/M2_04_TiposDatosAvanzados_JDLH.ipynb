{
 "cells": [
  {
   "cell_type": "markdown",
   "metadata": {},
   "source": [
    "# Ejercicios Modulo 2. Tipos avanzados\n",
    "\n",
    "Consideraciones a tener en cuenta: \n",
    "\n",
    "* Guardar este documento con el siguiente formato para su entrega: __M2_04_nombre_apellido1_apellido2__\n",
    "* Realizar los ejercicios con las herramientas vistas en las sesiones. Aún no hemos llegado a condicionales ni bucles\n",
    "* Comentar el código\n",
    "* Utilizar nombres de variables apropiados, si vais a guardar una nota, llamar a esa variable nota, no n o x"
   ]
  },
  {
   "cell_type": "markdown",
   "metadata": {},
   "source": [
    "## Ejercicios de tipos avanzados"
   ]
  },
  {
   "cell_type": "markdown",
   "metadata": {},
   "source": [
    "**1) Trabajemos con listas y tuplas**\n",
    "* Crea una lista y una tupla que contenga strings (al menos 3 elementos). Tematica libre, sobre lo que quieras, vehiculos, comida, música, etc.\n",
    "* Muestra la lista y la tupla\n",
    "* Muestra el 2º elemento de la lista y el penúltimo de la tupla\n",
    "* Modifica (si se puede) algún elemento de la lista y de la tupla. Y mostrar el resultado\n",
    "* Muestra el tamaño de la lista y de la tupla\n",
    "* Realiza una búsqueda de un elemento dentro de la lista y de la tupla. Mostrar si devuelve True o False\n",
    "* Añade (si se puede) algún elemento a la lista y a la tupla. Mostrar de nuevo la lista y la tupla para verificar si se ha realizado correctamente la acción.\n",
    "* Borra o elimina (si se puede) el contenido de la lista y de la tupla. Mosstrar de nuevo la lista y la tupla para verificar si se ha realizado correctamente la acción\n",
    "\n"
   ]
  },
  {
   "cell_type": "code",
   "execution_count": null,
   "metadata": {},
   "outputs": [],
   "source": [
    "vehiculos = [\"camion\", \"moto\", \"tractor\", \"autobus\"]\n",
    "funcionVehiculo = (\"transporte\", \"movilidad\", \"competicion\", \"mercancias\")\n",
    "print(vehiculos, funcionVehiculo)"
   ]
  },
  {
   "cell_type": "code",
   "execution_count": null,
   "metadata": {},
   "outputs": [],
   "source": [
    "print(vehiculos[1], funcionVehiculo[-2])"
   ]
  },
  {
   "cell_type": "code",
   "execution_count": null,
   "metadata": {},
   "outputs": [],
   "source": [
    "vehiculos[2] = \"triciclo\"\n",
    "print(vehiculos)"
   ]
  },
  {
   "cell_type": "code",
   "execution_count": null,
   "metadata": {},
   "outputs": [],
   "source": [
    "# Se puede definir una variable y luego mostrarlo\n",
    "tamañoLista = len(vehiculos)\n",
    "tamañoTupla = len(funcionVehiculo)\n",
    "print(tamañoLista, tamañoTupla)"
   ]
  },
  {
   "cell_type": "code",
   "execution_count": null,
   "metadata": {},
   "outputs": [],
   "source": [
    "# O tambien se puede mostrar directamente\n",
    "print(\"moto\" in vehiculos)\n",
    "print(\"moto\" in funcionVehiculo)"
   ]
  },
  {
   "cell_type": "code",
   "execution_count": null,
   "metadata": {},
   "outputs": [],
   "source": [
    "# Añadimos unicamente a la lista ya que es la unica modificable\n",
    "vehiculos.append (\"camello\")\n",
    "print(vehiculos)"
   ]
  },
  {
   "cell_type": "code",
   "execution_count": null,
   "metadata": {},
   "outputs": [],
   "source": [
    "vehiculos = []\n",
    "funcionVehiculo = ()\n",
    "print(vehiculos, funcionVehiculo)"
   ]
  },
  {
   "cell_type": "markdown",
   "metadata": {},
   "source": [
    "**2) Trabajemos con sets y diccionarios**\n",
    "* Crea una set y un diccionario que contengan strings (al menos 3 elementos en el caso del set y 3 conjuntos de clave:valor en el caso del diccionario). Tematica libre, sobre lo que quieras, vehiculos, comida, música, etc.\n",
    "* Muestra el set y el diccionario\n",
    "* Muestra (si se puede) el 2º elemento del set y el valor del primer clave-valor del diccionario\n",
    "* Modifica (si se puede) algún elemento del set o del diccionario. Y mostrar el resultado\n",
    "* Muestra el tamaño del set y del diccionario\n",
    "* Realiza una búsqueda de un elemento dentro del set y dentro del diccionario. Mostrar si devuelve True o False\n",
    "* Añade (si se puede) algún elemento al set y algun clave-valor al diccionario. Mostrar de nuevo el set y el diccionario para verificar si se ha realizado correctamente la acción.\n",
    "* Borra o elimina (si se puede) el contenido del set y del diccionario. Mosstrar de nuevo el set y el diccionario para verificar si se ha realizado correctamente la acción\n",
    "\n"
   ]
  },
  {
   "cell_type": "code",
   "execution_count": null,
   "metadata": {},
   "outputs": [],
   "source": [
    "salariosAnuales = {13000, 20000, 36000, 80000}\n",
    "tiposTrabajos = {\n",
    "    \"basico\": \"reponedor\",\n",
    "    \"basicoMedio\": \"gerente\",\n",
    "    \"medio\": \"gestor administrativo\",\n",
    "    \"alto\": \"ceo corporativo\"\n",
    "}\n",
    "print(salariosAnuales, tiposTrabajos)"
   ]
  },
  {
   "cell_type": "code",
   "execution_count": null,
   "metadata": {},
   "outputs": [],
   "source": [
    "# En los sets no existe orden alguno\n",
    "print(tiposTrabajos[\"basico\"])"
   ]
  },
  {
   "cell_type": "code",
   "execution_count": null,
   "metadata": {},
   "outputs": [],
   "source": [
    "# En los sets no se puede modificar, pero es posible la ampliacion o eliminacion de terminos\n",
    "tiposTrabajos[\"medio\"]= \"rrhh\"\n",
    "print(tiposTrabajos)"
   ]
  },
  {
   "cell_type": "code",
   "execution_count": null,
   "metadata": {},
   "outputs": [],
   "source": [
    "tamañoSet = len(salariosAnuales)\n",
    "tamañoDict = len(tiposTrabajos)\n",
    "print(\"El tamaño del set es de\", tamañoSet, \"terminos\")\n",
    "print(\"El tamaño del diccionario es de\", tamañoDict, \"parejas de clave-valor\")"
   ]
  },
  {
   "cell_type": "code",
   "execution_count": null,
   "metadata": {},
   "outputs": [],
   "source": [
    "# Bucamos si tenemos determinado valores dentro de ellos\n",
    "print(50000 in salariosAnuales)\n",
    "print(\"carnicero\" in tiposTrabajos)"
   ]
  },
  {
   "cell_type": "code",
   "execution_count": null,
   "metadata": {},
   "outputs": [],
   "source": [
    "# Añadimos algunos valores a los salarios\n",
    "salariosAnuales.update([100000, 150000, 16000])\n",
    "# Añadimos una clave valor al dict\n",
    "tiposTrabajos[\"dios\"] = \"jeff bezos\"\n",
    "print(salariosAnuales, tiposTrabajos)"
   ]
  },
  {
   "cell_type": "code",
   "execution_count": null,
   "metadata": {},
   "outputs": [],
   "source": [
    "# Eliminacion de todo sea dicho\n",
    "salariosAnuales = {13000, 20000, 36000, 80000}\n",
    "salariosAnuales.pop()\n",
    "salariosAnuales.pop()\n",
    "salariosAnuales.pop()\n",
    "salariosAnuales.pop() # Es la manera que he encotrado de mantener el tipo de datos como set, el eliminando cada uno de los items\n",
    "tiposTrabajos = {}\n",
    "print(type(salariosAnuales), type(tiposTrabajos))\n",
    "print(salariosAnuales, tiposTrabajos)"
   ]
  },
  {
   "cell_type": "markdown",
   "metadata": {},
   "source": [
    "**3) Realizar un programa que pida al usuario 3 números que pueden ser flotantes (no es necesario realizar bucles aún, podemos repetir el código), estos números se deberán introducir en una lista. Cuando se haya finalizado la introducción de los datos, se mostrará el sumatorio de toda la lista. Guardar el sumatorio en una variable que se llame \"sumatorio\"**\n",
    "\n",
    "*Ayuda: Existe una función llamada sum(lista) ¡Pruébalo!*"
   ]
  },
  {
   "cell_type": "code",
   "execution_count": null,
   "metadata": {},
   "outputs": [],
   "source": [
    "num1 = float(input(\"Escribe un numero:\"))\n",
    "num2 = float(input(\"Escribe un numero:\"))\n",
    "num3 = float(input(\"Escribe un numero:\"))\n",
    "nums = [num1, num2, num3]\n",
    "sumatorio = sum(nums)\n",
    "print(sumatorio)"
   ]
  },
  {
   "cell_type": "markdown",
   "metadata": {},
   "source": [
    "**4) Sobre el ejercicio anterior, queremos mostrar la media aritmética de los elementos de esa lista. Indicar la instrucción necesaria para obtenerla.**\n",
    "\n",
    "*En este caso sabemos que el número de elementos que ha introducido el usuario es 3, pero en otra ocasión podría ser diferente, por lo tanto, no hagáis referencia al número 3 en ningún sitio*"
   ]
  },
  {
   "cell_type": "code",
   "execution_count": null,
   "metadata": {},
   "outputs": [],
   "source": [
    "mediaArit = sumatorio / len(nums)\n",
    "print(mediaArit)"
   ]
  },
  {
   "cell_type": "markdown",
   "metadata": {},
   "source": [
    "**5) Dada la siguiente matriz de notas (una matriz es una lista de listas anidadas) se observa que cada fila es un listado de notas de un alumno, donde en la última posición de cada lista se encuentra el sumatorio de todas las notas anteriores de esa lista. Pero apreciamos que hay varios errores en los sumatorios de varios alumnos, utilizar la técnica de slicing para acceder a estas posiciones y modificar los valores erroneos de la forma más automatizada posible.**\n",
    "\n",
    "* No vale poner directamente los valores:\n",
    "```python\n",
    "notas[1][3] = 60\n",
    "notas[3][3] = 120\n",
    "```\n",
    "* Hay que buscar una forma automatizada de acceder y modificar esos valores"
   ]
  },
  {
   "cell_type": "code",
   "execution_count": 5,
   "metadata": {},
   "outputs": [
    {
     "name": "stdout",
     "output_type": "stream",
     "text": [
      "¿A que sublista quieres acceder?(0, 1, 2 , 3):1\n",
      "[[10, 10, 10, 30], [20, 20, 20, 60], [30, 30, 30, 90], [40, 40, 40, 130]]\n"
     ]
    }
   ],
   "source": [
    "notas = [ \n",
    "    [10, 10, 10, 30],\n",
    "    [20, 20, 20, 70],\n",
    "    [30, 30, 30, 90],\n",
    "    [40, 40, 40, 130]\n",
    "]\n",
    "indice = int()\n",
    "indice = int(input(\"¿A que sumatorio de qué sublista quieres corregir?(0, 1, 2 , 3):\"))\n",
    "notas[indice][3] = sum(notas[indice][:3])\n",
    "print(notas)\n",
    "# "
   ]
  },
  {
   "cell_type": "code",
   "execution_count": null,
   "metadata": {},
   "outputs": [],
   "source": [
    "while (True): # Queria intentarlo haciendo un bucle pero no lo consigo\n",
    "    print(\"\"\"Valor que quieres cambiar:\n",
    "          1) Sumatorio final\n",
    "          2) Elemento de una sublista\n",
    "          3) Salir del programa\n",
    "          \"\"\")\n",
    "    x = input(\"Introduce tu opción\")\n",
    "    if x == 1:\n",
    "        indice = input(\"Sublista a la que quieres acceder (0 , 1 , 2 , 3):\")\n",
    "        notas[indice][3] = sum(notas[indice][:3])\n",
    "        print(notas)\n",
    "    elif x == 2:\n",
    "        indice = int(input(\"Sublista a la que quieres acceder (0 , 1 , 2 , 3):\"))\n",
    "        subindice = int(input(\"Valor de la sublista a la que quieres acceder (0 , 1 , 2 , 3):\"))\n",
    "        notas [indice][subindice] = float(input(\"Valor nuevo del elemento:\"))\n",
    "    else:\n",
    "        print(notas)\n",
    "        break"
   ]
  },
  {
   "cell_type": "markdown",
   "metadata": {},
   "source": [
    "**6) Supongamos que obtenemos una cadena de texto corrupta, esta al revés. Esta cadena contiene el nombre y el año de nacimiento de una persona. Formatear dicha cadena para obtener el siguiente formato:**\n",
    "\n",
    "* Empleado ***Nombre*** ***Apellido*** nacido en el año ***Año***\n",
    "\n",
    "*Pista: Para invertir el orden una cadena usando técnicas de slicing se puede utilizar un tercer índice -1: cadena[::-1]*\n"
   ]
  },
  {
   "cell_type": "code",
   "execution_count": 14,
   "metadata": {},
   "outputs": [
    {
     "name": "stdout",
     "output_type": "stream",
     "text": [
      "Empleado Carlos Perez nacido en el año 1985.\n"
     ]
    }
   ],
   "source": [
    "cadena = \"zereP solraC,5891\"\n",
    "# Le he dado un par de vueltas a la conexion de los tres indices (he tenido que echarle un ojo por ahi)\n",
    "nombreApellido = cadena[-6:-18:-1]\n",
    "año = cadena[:-5:-1]\n",
    "print(\"Empleado {} nacido en el año {}.\".format(nombreApellido, año))"
   ]
  },
  {
   "cell_type": "markdown",
   "metadata": {},
   "source": [
    "**7) Practiquemos con conjuntos:**\n",
    "* Crea un conjunto llamado mamíferos que tenga los elementos Gato, León, Caballo, Ballena y Tortuga\n",
    "* Crea un conjunto llamado peces que tenga los elementos Ballena y Sardina\n",
    "* Borra la Tortuga del conjunto mamiíferos\n",
    "* Añade el Pez Payaso al conjunto peces\n",
    "* Imprime los conjuntos por pantalla\n",
    "* Imprime por pantalla los elementos que se encuentren en ambos conjuntos, es decir, que sean mamíferos y peces"
   ]
  },
  {
   "cell_type": "code",
   "execution_count": 18,
   "metadata": {},
   "outputs": [
    {
     "name": "stdout",
     "output_type": "stream",
     "text": [
      "{'Ballena', 'León', 'Gato'} {'Pez Payaso', 'Sardina', 'Ballena'}\n",
      "El animal en ambos conjunto es {'Ballena'}\n"
     ]
    }
   ],
   "source": [
    "mamiferos = {\"Gato\", \"León\", \"Ballena\", \"Tortuga\"}\n",
    "peces = {\"Ballena\", \"Sardina\"}\n",
    "mamiferos.remove(\"Tortuga\")\n",
    "peces.add(\"Pez Payaso\")\n",
    "print(mamiferos, peces)\n",
    "print(\"El animal en ambos conjunto es\",mamiferos & peces)"
   ]
  },
  {
   "cell_type": "markdown",
   "metadata": {},
   "source": [
    "**8) Practiquemos con diccionarios. Tenemos un diccionario que contiene una serie de productos. Realicemos las tres siguientes tareas:**\n",
    "* Ver productos\n",
    "* Subir el precio a todos los productos\n",
    "* Volver a ver todos los precios (para comprobar que el precio ha subido)\n",
    "\n",
    "Al inicio del programa, se mostrarán todos los productos, tienen que aparecer ordenados con el siguiente formato: <br><code>1 - Arduino - 30€</code><br>\n",
    "Posteriormente, a todos los productos se aplicará una subida del 50% a todos los precios de productos.<br>\n",
    "Y finalmente volveremos a mostrar todos los productos para comprobar la subida de precios."
   ]
  },
  {
   "cell_type": "code",
   "execution_count": 22,
   "metadata": {},
   "outputs": [
    {
     "name": "stdout",
     "output_type": "stream",
     "text": [
      "Los productos son los siguientes:\n",
      "1 - Arduino - 30 €\n",
      "2 - RPi - 70 €\n",
      "3 - Print 3D - 300 €\n",
      "La subida de precios sera la siguiente:\n",
      "1 - Arduino - 60 €\n",
      "2 - RPi - 140 €\n",
      "3 - Print 3D - 600 €\n"
     ]
    }
   ],
   "source": [
    "productos = { 'id':[1,2,3], \n",
    "             'nombre':['Arduino', 'RPi', 'Print 3D'], \n",
    "             'precio': [30, 70, 300] \n",
    "            }\n",
    "print(\"Los productos son los siguientes:\")\n",
    "print(productos[\"id\"][0],\"-\", productos[\"nombre\"][0],\"-\", productos[\"precio\"][0],\"€\")\n",
    "print(productos[\"id\"][1],\"-\", productos[\"nombre\"][1],\"-\", productos[\"precio\"][1],\"€\")\n",
    "print(productos[\"id\"][2],\"-\", productos[\"nombre\"][2],\"-\", productos[\"precio\"][2],\"€\")\n",
    "\n",
    "print(\"La subida de precios será la siguiente:\")\n",
    "productos[\"precio\"][0] *= 2\n",
    "productos[\"precio\"][1] *= 2\n",
    "productos[\"precio\"][2] *= 2\n",
    "print(productos[\"id\"][0],\"-\", productos[\"nombre\"][0],\"-\", productos[\"precio\"][0],\"€\")\n",
    "print(productos[\"id\"][1],\"-\", productos[\"nombre\"][1],\"-\", productos[\"precio\"][1],\"€\")\n",
    "print(productos[\"id\"][2],\"-\", productos[\"nombre\"][2],\"-\", productos[\"precio\"][2],\"€\")"
   ]
  }
 ],
 "metadata": {
  "anaconda-cloud": {},
  "kernelspec": {
   "display_name": "Python 3 (ipykernel)",
   "language": "python",
   "name": "python3"
  },
  "language_info": {
   "codemirror_mode": {
    "name": "ipython",
    "version": 3
   },
   "file_extension": ".py",
   "mimetype": "text/x-python",
   "name": "python",
   "nbconvert_exporter": "python",
   "pygments_lexer": "ipython3",
   "version": "3.9.7"
  }
 },
 "nbformat": 4,
 "nbformat_minor": 1
}
