{
 "cells": [
  {
   "cell_type": "markdown",
   "metadata": {},
   "source": [
    "# Ejercicios Modulo 2. Control de flujo\n",
    "\n",
    "Consideraciones a tener en cuenta: \n",
    "\n",
    "* Guardar este documento con el siguiente formato para su entrega: __M2_05_nombre_apellido1_apellido2__\n",
    "* Realizar los ejercicios con las herramientas vistas en las sesiones. \n",
    "* Comentar el código\n",
    "* Utilizar nombres de variables apropiados, si vais a guardar una nota, llamar a esa variable nota, no n o x"
   ]
  },
  {
   "cell_type": "markdown",
   "metadata": {},
   "source": [
    "## Ejercicios de control de flujo"
   ]
  },
  {
   "cell_type": "markdown",
   "metadata": {},
   "source": [
    "**1) Realiza un programa que lea tres números por teclado y permita evaluar lo siguiente:** \n",
    "* Si los números están en orden ascendente\n",
    "* Si los números no están en orden ascendente\n",
    "* Si hay un error debido a que el primer número introducido es 0\n",
    "\n",
    "__No uses listas, eso dejalo para el siguiente ejercicio__"
   ]
  },
  {
   "cell_type": "code",
   "execution_count": null,
   "metadata": {},
   "outputs": [],
   "source": [
    "print(\"Programa descriptivo de valor\")\n",
    "while (True):\n",
    "    print(\"Introduzca tres numeros\")\n",
    "    n1 = input(\"Primer numero:\")\n",
    "    n2 = input(\"Segundo numero:\")\n",
    "    n3 = input(\"Tercer numero:\")\n",
    "    if n1 != 0:\n",
    "        if n1 <= n2 and n2 <= n3:\n",
    "            print(\"Los numeros {}, {}, {} estan en orden ascendente\".format(n1, n2, n3))       \n",
    "        else:\n",
    "            print(\"Los numeros {}, {}, {} no estan en orden ascendente\".format(n1, n2, n3))\n",
    "    else:\n",
    "        print(\"Error, dato del primer numero no válido\")"
   ]
  },
  {
   "cell_type": "markdown",
   "metadata": {},
   "source": [
    "**2) Realiza el ejercicio anterior pero introduciendo los numeros en una lista:**"
   ]
  },
  {
   "cell_type": "code",
   "execution_count": null,
   "metadata": {},
   "outputs": [],
   "source": [
    "print(\"Programa descriptivo de valor\")\n",
    "while (True):\n",
    "    print(\"Introduzca tres numeros\")\n",
    "    n = [float(input(\"Primer numero:\")), \n",
    "         float(input(\"Segundo numero:\")), \n",
    "         float(input(\"Tercer numero:\"))]\n",
    "    if n[0] != 0:\n",
    "        if n[0] <= n[1] and n[1] <= n[2]:\n",
    "            print(\"Los numeros {}, {}, {} estan en orden ascendente\".format(n[0], n[1], n[2]))       \n",
    "        else:\n",
    "            print(\"Los numeros {}, {}, {} no estan en orden ascendente\".format(n[0], n[1], n[2]))\n",
    "    else:\n",
    "        print(\"Error, dato del primer numero no válido\")"
   ]
  },
  {
   "cell_type": "markdown",
   "metadata": {},
   "source": [
    "**3) Realiza un programa que realice el sumatorio de los primeros N números, empezando en 0, y siendo N el número límite que el usuario proporciona por teclado:** \n",
    "* Ejemplo de número límite introducido por el usuario: 5\n",
    "* sumatorio = 0 + 1 + 2 + 3 + 4 (sumamos los 5 primeros números)"
   ]
  },
  {
   "cell_type": "code",
   "execution_count": null,
   "metadata": {},
   "outputs": [],
   "source": [
    "print(\"Programa de sumatorio de los 'n' primeros numeros\")\n",
    "while (True):\n",
    "    n = int(input(\"Introduzca un numero entero:\"))\n",
    "    datosProgram = list(range(n)) # lo he definido aqui por que no me dejaba dentro del else\n",
    "    if n <= 0:\n",
    "        print(\"INTRODUZCA UN VALOR SUPERIOR A 0\") # Hay que evitar errores del usuario\n",
    "    else:\n",
    "        print(\"La suma de los {} primeros numeros empezando en 0 es\".format(n), sum(datosProgram))"
   ]
  },
  {
   "cell_type": "markdown",
   "metadata": {},
   "source": [
    "**4) Realiza un programa que lea letras y cuente con una variable contador las letras \"a\" que se introducen. Para salir del programa, introducir el carácter \".\". Al finalizar mostrar el número de veces que se ha pulsado la letra \"a\".**"
   ]
  },
  {
   "cell_type": "code",
   "execution_count": null,
   "metadata": {},
   "outputs": [],
   "source": [
    "x = \"\" \n",
    "while x != \".\":\n",
    "    listaLetras = list(input(\"Introduzca todas las letras que usted quiera (sin espacios):\"))\n",
    "    contador = 0 # No sabia que las variables podian modificar el programa dependiendo de si se definen antes o en bucle.\n",
    "    for i in listaLetras:\n",
    "        if (i ==\"a\") or (i == \"A\"):\n",
    "            contador += 1\n",
    "    print(\"El numero de 'a' es de:\", contador)\n",
    "    x = str(input(\"Si quiere cerrar el programa pulse '.', sino pulse cualquier letra:\"))"
   ]
  },
  {
   "cell_type": "markdown",
   "metadata": {},
   "source": [
    "**5) Realiza el sumatorio de los números pares comprendidos entre 1000 y 73 (en este orden, yendo hacia atrás). Implementa esta solución con un bucle for o while:**"
   ]
  },
  {
   "cell_type": "code",
   "execution_count": null,
   "metadata": {},
   "outputs": [],
   "source": [
    "milNums = list(range(1001))\n",
    "# Lista sobre la que haremos el sumatorio hacia atras\n",
    "numsElegidos = list() \n",
    "for valor in milNums: # 3 dias para configuarar un bubcle que funcionase correctamente\n",
    "    if valor >= 73:\n",
    "        if (valor % 2) == 0:\n",
    "            numsElegidos.append(valor)\n",
    "sumatorioFinal = sum(numsElegidos[::-1])\n",
    "print(sumatorioFinal)"
   ]
  },
  {
   "cell_type": "code",
   "execution_count": null,
   "metadata": {},
   "outputs": [],
   "source": [
    "sumatorio = sum(milNums[:72:-2])\n",
    "print(sumatorio)\n",
    "print(milNums[:72:-2]) # La comprobacion de que es la lista de numeros pares entre 1000 y 73"
   ]
  },
  {
   "cell_type": "markdown",
   "metadata": {},
   "source": [
    "**6) Realiza un programa que solicite al usuario un número que representa el total de números que se van a introducir. Posteriormente leer todos esos números, meterlos en una lista y realizar:**\n",
    "* La ordenación de la lista de menor a mayor\n",
    "* Indicar el promedio de la lista\n",
    "* Indicar el valor máximo y el valor mínimo y en que posiciones se encuentran"
   ]
  },
  {
   "cell_type": "code",
   "execution_count": null,
   "metadata": {},
   "outputs": [],
   "source": [
    "while (True):\n",
    "    numQquiere = int(input(\"Escriba un número que represente el total de números que se van a introducir en su lista:\"))\n",
    "    listaRango = list(range(numQquiere))\n",
    "    \n",
    "# La parte para que el ususario intoduzca sus numeros según sus especificaciones \n",
    "    contador = 0\n",
    "    while contador != numQquiere:\n",
    "        for indice, i in enumerate(listaRango):\n",
    "            listaRango[indice] = float(input(\"Introduca un numero a la lista:\"))\n",
    "            contador += 1\n",
    "            \n",
    "# Aqui la parte donde se ordena de menor a mayor la lista introducida.  \n",
    "    listaOrdenada = sorted(listaRango)\n",
    "    print(\"\"\"---La lista ordenada de menor a mayor es:---\n",
    "    {}\"\"\".format(listaOrdenada))     \n",
    "# La parte del promedio de la lista\n",
    "    promedio = sum(listaRango) / numQquiere\n",
    "    print(\"---El promedio de tu lista es:\", promedio,\"---\")\n",
    "# La busqueda del maximo y minimo de esa lista y sus posiciones\n",
    "    maximo = listaRango[0]\n",
    "    minimo = listaRango[0]\n",
    "    posicionMax = 0\n",
    "    posicionMin = 0\n",
    "    for indice, i in enumerate(listaRango):\n",
    "        if i > maximo:\n",
    "            maximo = listaRango[indice]\n",
    "            posicionMax = indice\n",
    "        elif i < minimo:\n",
    "            minimo = listaRango[indice]\n",
    "            posiciobMin = indice\n",
    "    print(\"\"\"---El numero mayor es {}, que esta en la posición {}.--- \n",
    "    ---El numero menor es {}, que esta en la posición {}---\"\"\".format(maximo, posicionMax, minimo, posiciobMin))      \n",
    "        "
   ]
  },
  {
   "cell_type": "markdown",
   "metadata": {},
   "source": [
    "**7) Crea una lista de palabras, recorre la lista y muestra cada palabra junto con su longitud. Al final, indicar cual fue la palabra con más caracteres.**"
   ]
  },
  {
   "cell_type": "code",
   "execution_count": null,
   "metadata": {},
   "outputs": [],
   "source": [
    "listWord = [\"chocolates\", \"manzanas\", \"pepinos\", \"altramuces\", \"cochinillos\", \"ternera\", \"atun\"]\n",
    "# Creamos las varibales que vamos a tener como referrencia el tamañao y el maximo\n",
    "maximo = len(listWord[0])\n",
    "palabra = listWord[0]\n",
    "for i in listWord:\n",
    "    print(i, \"Tiene {} letras\".format(len(i)))\n",
    "    if (len(i) > maximo): # Transformamos la palabra y su tamaño en el la nueva palabra y tamaño maximo, si supera la anterior definida\n",
    "        maximo = len(i)\n",
    "        palabra = i\n",
    "print(\"La plabra con mas caracteres es {} con {} letras\".format(palabra, maximo)) "
   ]
  },
  {
   "cell_type": "markdown",
   "metadata": {},
   "source": [
    "**8) Crea un menú con esta forma:**\n",
    "```python\n",
    "MENU COMPRA-VENTA\n",
    "    1. Comprar\n",
    "    2. Vender\n",
    "    3. Alquilar\n",
    "    4. Mostrar listas de datos\n",
    "    5. Salir\n",
    "    Introduzca que desea hacer(1-4): \n",
    "```\n",
    "* Si se selecciona la opción 1 preguntaremos al usuario que quiere comprar y después de que el usuario lo haya introducido se guardará en una lista destinada a las compras y se volverá al menú principal.\n",
    "* Si se selecciona la opción 2 preguntaremos al usuario que quiere vender y después de que el usuario lo haya introducido se guardará en una lista destinada a las ventas y se volverá al menú principal.\n",
    "* Si se selecciona la opción 3 preguntaremos al usuario que quiere alquilar y después de que el usuario lo haya introducido se guardará en una lista destinada a los alquileres y se volverá al menú principal.\n",
    "* Si se selecciona la opción 4 se mostrarán todas las listas.\n",
    "* Si se selecciona la opción 5 saldremos del bucle."
   ]
  },
  {
   "cell_type": "code",
   "execution_count": null,
   "metadata": {},
   "outputs": [],
   "source": [
    "opcionSeleccion = 0\n",
    "while opcionSeleccion != 5:\n",
    "    print(\"\"\"MENU COMPRA-VENTA:\n",
    "        1. Comprar\n",
    "        2. Vender\n",
    "        3. Alquilar\n",
    "        4. Mostrar listas de datos\n",
    "        5. Salir\"\"\")\n",
    "    opcionSeleccion = int(input(\"Introduzca que desea hacer(1-5):\"))\n",
    "    if opcionSeleccion == 1:\n",
    "        listaCompra = list(\"-\")\n",
    "        respuesta = \"Si\"\n",
    "        while respuesta == \"si\" or respuesta == \"Si\" or respuesta == \"SI\":\n",
    "            listaCompra.append(input(\"¿Que quiere comprar? \"))\n",
    "            respuesta = str(input(\"¿Añades algo mas?\"))\n",
    "    \n",
    "            \n",
    "    elif opcionSeleccion == 2:\n",
    "        listaVenta = list(\"-\")\n",
    "        respuesta = \"Si\"\n",
    "        while respuesta == \"si\" or respuesta == \"Si\" or respuesta == \"SI\":\n",
    "            listaVenta.append(input(\"¿Que quiere vender? \"))\n",
    "            respuesta = str(input(\"¿Añades algo mas?\"))\n",
    "    \n",
    "    \n",
    "    elif opcionSeleccion == 3:\n",
    "        listaAlquiler = list(\"-\")\n",
    "        respuesta = \"Si\"\n",
    "        while respuesta == \"si\" or respuesta == \"Si\" or respuesta == \"SI\":\n",
    "            listaAlquiler.append(input(\"¿Que quiere alquilar? \"))\n",
    "            respuesta = str(input(\"¿Añades algo mas?\"))\n",
    "  \n",
    "\n",
    "\n",
    "    elif opcionSeleccion == 4:\n",
    "        print(\"Esta es la lista de la COMPRA:\", listaCompra)\n",
    "        print(\"Esta es la lista de las VENTAS:\", listaCompra)\n",
    "        print(\"Esta es la lista de los ALQUILERES:\", listaCompra)\n",
    "        \n",
    "    \n",
    "    "
   ]
  },
  {
   "cell_type": "markdown",
   "metadata": {},
   "source": [
    "**9) Realiza un programa que realice las siguientes tareas:**\n",
    "* __Paso 1__) solicite al usuario una contraseña y la guarde en una variable \n",
    "* __Paso 2__) pida al usuario introducir la contraseña para loguearse\n",
    "    * si la contraseña es correcta mostramos \"__Login correcto__\"\n",
    "    * si la contraseña no es correcta se le tendrá que mostrar un mensaje de \"__Login fallido. Intento 1__\", donde 1 será una variable contador que irá incrementandose hasta llegar a __5__. En ese punto __reiniciamos el programa y volveremos al Paso 1__"
   ]
  },
  {
   "cell_type": "code",
   "execution_count": null,
   "metadata": {},
   "outputs": [],
   "source": [
    "while (True):\n",
    "    contraseña = input(\"Introduzca una contraseña:\")\n",
    "    loginContraseña = input(\"Introduzca su contraseña para registrarse:\")\n",
    "    if loginContraseña == contraseña:\n",
    "        print(\"--Login correcto--\")\n",
    "    else:\n",
    "        contador = 1\n",
    "        while loginContraseña != contraseña:\n",
    "            print(\"Login fallido. Intento\", contador)\n",
    "            loginContraseña = input(\"Intentelo de nuevo:\")\n",
    "            if loginContraseña == contraseña:\n",
    "                print(\"--Login correcto--\")\n",
    "            elif contador == 5:\n",
    "                loginContraseña = contraseña\n",
    "                print(\"Intentos permitidos excedidos\")\n",
    "            else:\n",
    "                contador += 1"
   ]
  }
 ],
 "metadata": {
  "anaconda-cloud": {},
  "kernelspec": {
   "display_name": "Python 3 (ipykernel)",
   "language": "python",
   "name": "python3"
  },
  "language_info": {
   "codemirror_mode": {
    "name": "ipython",
    "version": 3
   },
   "file_extension": ".py",
   "mimetype": "text/x-python",
   "name": "python",
   "nbconvert_exporter": "python",
   "pygments_lexer": "ipython3",
   "version": "3.9.7"
  }
 },
 "nbformat": 4,
 "nbformat_minor": 1
}
